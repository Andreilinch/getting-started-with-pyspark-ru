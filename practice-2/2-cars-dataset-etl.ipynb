{
 "cells": [
  {
   "cell_type": "markdown",
   "id": "54ae5551",
   "metadata": {},
   "source": [
    "# Практика PySpark и SparkSQL (pyspark.sql.functions)"
   ]
  },
  {
   "cell_type": "markdown",
   "id": "a5b500f5",
   "metadata": {},
   "source": [
    "**Задача**. Сделать пайплайн обработки файла `cars.csv`. \n",
    "\n",
    "Необходимо посчитать по каждому производителю (поле `manufacturer_name`):\n",
    "- кол-во объявлений\n",
    "- средний год выпуска автомобилей\n",
    "- минимальную цену\n",
    "- максимальную цену\n",
    "\n",
    "Выгрузить результат в `output.csv`."
   ]
  },
  {
   "cell_type": "markdown",
   "id": "5296dae7",
   "metadata": {},
   "source": [
    "## Мое решение с вертухи"
   ]
  },
  {
   "cell_type": "code",
   "execution_count": 6,
   "id": "4936272a",
   "metadata": {},
   "outputs": [],
   "source": [
    "# cоздаём SparkSession\n",
    "\n",
    "from pyspark.sql import SparkSession\n",
    "import pyspark.sql.functions as F\n",
    "\n",
    "spark = SparkSession.builder.appName(\"Practice 2\").getOrCreate()\n",
    "\n",
    "df = spark.read.format(\"csv\").option(\"header\", \"true\").load(\"data/cars.csv\")\n"
   ]
  },
  {
   "cell_type": "code",
   "execution_count": 17,
   "id": "67838549",
   "metadata": {},
   "outputs": [
    {
     "name": "stdout",
     "output_type": "stream",
     "text": [
      "+-----------------+--------------+------------------+--------+\n",
      "|manufacturer_name|max(price_usd)|avg(year_produced)|count(1)|\n",
      "+-----------------+--------------+------------------+--------+\n",
      "|            Acura|        9700.0| 2007.121212121212|      66|\n",
      "|       Alfa Romeo|         980.0|1999.2946859903382|     207|\n",
      "|             Audi|        9999.0|2000.0996758508913|    2468|\n",
      "|              BMW|        9999.0|2002.5620689655173|    2610|\n",
      "|            Buick|        9999.0|2014.4468085106382|      47|\n",
      "|         Cadillac|        9100.0|            2006.0|      43|\n",
      "|            Chery|        9150.0|2010.6206896551723|      58|\n",
      "|        Chevrolet|        9999.0|2010.6857798165138|     436|\n",
      "|         Chrysler|        9900.0|2001.7585365853658|     410|\n",
      "|          Citroen|        9999.0|2003.1325224071702|    1562|\n",
      "|            Dacia|        9960.0|2009.2203389830509|      59|\n",
      "|           Daewoo|         999.0| 2001.289592760181|     221|\n",
      "|            Dodge|        9990.0|2003.3535353535353|     297|\n",
      "|             Fiat|         999.0|2000.1662621359224|     824|\n",
      "|             Ford|        9999.0|2001.9103663289166|    2566|\n",
      "|            Geely|        9000.0|2014.0281690140846|      71|\n",
      "|       Great Wall|        9300.0|2009.4722222222222|      36|\n",
      "|            Honda|        9999.0|2003.6662484316187|     797|\n",
      "|          Hyundai|        9999.0|2006.7383512544802|    1116|\n",
      "|         Infiniti|        9800.0|2007.8765432098764|     162|\n",
      "+-----------------+--------------+------------------+--------+\n",
      "only showing top 20 rows\n",
      "\n"
     ]
    }
   ],
   "source": [
    "# gdf = df.groupBy('manufacturer_name')\n",
    "# gdf.agg({\"*\": 'count', \"year_produced\": 'mean', \"price_usd\": 'min', \"price_usd\": 'max' }).show()\n",
    "\n",
    "# так почему две разные аггрегации для одной колонки не раьботают \"price_usd\": 'min', \"price_usd\": 'max'\n"
   ]
  },
  {
   "cell_type": "code",
   "execution_count": 34,
   "id": "1ca44cbd",
   "metadata": {},
   "outputs": [
    {
     "name": "stdout",
     "output_type": "stream",
     "text": [
      "+-----------------+-----------+-------------+---------+---------+\n",
      "|manufacturer_name|count names|year_produced|min_price|min_price|\n",
      "+-----------------+-----------+-------------+---------+---------+\n",
      "|            Acura|         66|         2007|   2350.0|  36500.0|\n",
      "|       Alfa Romeo|        207|         1999|   104.33|  22000.0|\n",
      "|             Audi|       2468|         2000|    130.0|  46750.0|\n",
      "|              BMW|       2610|         2003|     9.49|  50000.0|\n",
      "|            Buick|         47|         2014|   5300.0|  24000.0|\n",
      "|         Cadillac|         43|         2006|   1700.0|  25750.0|\n",
      "|            Chery|         58|         2011|   1250.0| 16077.02|\n",
      "|        Chevrolet|        436|         2011|    800.0|  49900.0|\n",
      "|         Chrysler|        410|         2002|    550.0|  48000.0|\n",
      "|          Citroen|       1562|         2003|    100.0|  19500.0|\n",
      "|            Dacia|         59|         2009|   1350.0|  11950.0|\n",
      "|           Daewoo|        221|         2001|    100.0|   6700.0|\n",
      "|            Dodge|        297|         2003|    400.0|  35900.0|\n",
      "|             Fiat|        824|         2000|      1.0| 34118.23|\n",
      "|             Ford|       2566|         2002|    110.0|  41000.0|\n",
      "|            Geely|         71|         2014|    222.0| 22479.37|\n",
      "|       Great Wall|         36|         2009|   1999.0|  16499.0|\n",
      "|            Honda|        797|         2004|    100.0|  42000.0|\n",
      "|          Hyundai|       1116|         2007|    200.0| 45954.66|\n",
      "|         Infiniti|        162|         2008|   4200.0|  47000.0|\n",
      "|            Iveco|        139|         2003|   1700.0|  40000.0|\n",
      "|           Jaguar|         53|         2009|   2500.0|  50000.0|\n",
      "|             Jeep|        107|         2005|   1500.0|  43000.0|\n",
      "|              Kia|        912|         2008|    200.0|  44700.0|\n",
      "|             LADA|        146|         2014|    120.0|  13800.0|\n",
      "|           Lancia|         92|         2000|    200.0|   9500.0|\n",
      "|       Land Rover|        184|         2007|   2800.0|  49950.0|\n",
      "|            Lexus|        213|         2008|   2500.0| 48610.45|\n",
      "|            Lifan|         47|         2015|   1050.0|  15750.0|\n",
      "|          Lincoln|         36|         2003|   2500.0|  27900.0|\n",
      "+-----------------+-----------+-------------+---------+---------+\n",
      "only showing top 30 rows\n",
      "\n"
     ]
    }
   ],
   "source": [
    "df.groupBy('manufacturer_name').agg(F.count('manufacturer_name').alias(\"count names\"),\n",
    "                                    F.round(F.avg(\"year_produced\")).cast('Integer').alias(\"year_produced\"),\n",
    "                                    F.min(F.col('price_usd').cast('float')).alias(\"min_price\"),\n",
    "                                    F.max(F.col('price_usd').cast('float')).alias(\"min_price\"))\\\n",
    "                                    .orderBy(\"manufacturer_name\").show(30)       "
   ]
  },
  {
   "cell_type": "markdown",
   "id": "5953e94a",
   "metadata": {},
   "source": [
    "## Решение"
   ]
  },
  {
   "cell_type": "code",
   "execution_count": 20,
   "id": "8fe9673c",
   "metadata": {},
   "outputs": [],
   "source": [
    "from pyspark.sql import SparkSession, DataFrame\n",
    "import pyspark.sql.functions as F\n",
    "import pyspark.sql.types as t\n",
    "\n",
    "\n",
    "def extract_data(spark: SparkSession) -> DataFrame:\n",
    "    path = \"data/cars.csv\"\n",
    "    return spark.read.option(\"header\", \"true\").csv(path)\n",
    "\n",
    "\n",
    "def transform_data(df: DataFrame) -> DataFrame:\n",
    "    output = (\n",
    "        df\n",
    "        .groupBy(\"manufacturer_name\")\n",
    "        .agg(\n",
    "            F.count(\"manufacturer_name\").alias(\"count_ads\"),\n",
    "            F.round(F.avg(\"year_produced\")).cast(t.IntegerType()).alias(\"avg_year_produced\"),\n",
    "            F.min(\"price_usd\").alias(\"min_price\"),\n",
    "            F.max(\"price_usd\").alias(\"max_price\"),\n",
    "        )\n",
    "        .orderBy(F.col(\"count_ads\").desc())\n",
    "    )\n",
    "    return output\n",
    "\n",
    "\n",
    "def save_data(df: DataFrame) -> None:\n",
    "    df.coalesce(4).write.mode(\"overwrite\").format(\"json\").save(\"output.json\")\n",
    "\n",
    "\n",
    "def main():\n",
    "    spark = SparkSession.builder.appName(\"Practice 2\").getOrCreate()\n",
    "    df = extract_data(spark)\n",
    "    output = transform_data(df)\n",
    "    save_data(output)\n",
    "    #spark.stop()\n",
    "\n",
    "main()\n"
   ]
  },
  {
   "cell_type": "markdown",
   "id": "ec0ee133",
   "metadata": {},
   "source": [
    "## такое решение является полноценным пайплайном"
   ]
  },
  {
   "cell_type": "code",
   "execution_count": 35,
   "id": "6408e0da",
   "metadata": {},
   "outputs": [],
   "source": [
    "spark.stop()"
   ]
  }
 ],
 "metadata": {
  "kernelspec": {
   "display_name": "Python 3",
   "language": "python",
   "name": "python3"
  },
  "language_info": {
   "codemirror_mode": {
    "name": "ipython",
    "version": 3
   },
   "file_extension": ".py",
   "mimetype": "text/x-python",
   "name": "python",
   "nbconvert_exporter": "python",
   "pygments_lexer": "ipython3",
   "version": "3.9.10"
  }
 },
 "nbformat": 4,
 "nbformat_minor": 5
}
